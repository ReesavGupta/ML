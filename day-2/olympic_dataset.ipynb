{
 "cells": [
  {
   "cell_type": "code",
   "execution_count": 6,
   "id": "7b25be13",
   "metadata": {},
   "outputs": [],
   "source": [
    "import pandas as pd\n",
    "import matplotlib.pyplot as plt\n",
    "import seaborn as sns"
   ]
  },
  {
   "cell_type": "code",
   "execution_count": 16,
   "id": "154e8d11",
   "metadata": {},
   "outputs": [
    {
     "name": "stderr",
     "output_type": "stream",
     "text": [
      "c:\\Users\\REESAV\\AppData\\Local\\Programs\\Python\\Python311\\Lib\\site-packages\\openpyxl\\styles\\stylesheet.py:237: UserWarning: Workbook contains no default style, apply openpyxl's default\n",
      "  warn(\"Workbook contains no default style, apply openpyxl's default\")\n",
      "c:\\Users\\REESAV\\AppData\\Local\\Programs\\Python\\Python311\\Lib\\site-packages\\openpyxl\\styles\\stylesheet.py:237: UserWarning: Workbook contains no default style, apply openpyxl's default\n",
      "  warn(\"Workbook contains no default style, apply openpyxl's default\")\n"
     ]
    }
   ],
   "source": [
    "athelete_df = pd.read_excel(\"dataset/Athletes.xlsx\")\n",
    "coaches_df = pd.read_excel(\"dataset/Coaches.xlsx\")\n",
    "entries_gender_df = pd.read_excel(\"dataset/EntriesGender.xlsx\")\n",
    "medals_df = pd.read_excel(\"dataset/Medals.xlsx\")\n",
    "teams_df = pd.read_excel(\"dataset/Teams.xlsx\")\n"
   ]
  },
  {
   "cell_type": "code",
   "execution_count": 18,
   "id": "08feb3a2",
   "metadata": {},
   "outputs": [
    {
     "name": "stdout",
     "output_type": "stream",
     "text": [
      "                Name     NOC           Discipline\n",
      "0    AALERUD Katrine  Norway         Cycling Road\n",
      "1        ABAD Nestor   Spain  Artistic Gymnastics\n",
      "2  ABAGNALE Giovanni   Italy               Rowing\n",
      "3     ABALDE Alberto   Spain           Basketball\n",
      "4      ABALDE Tamara   Spain           Basketball\n",
      "<class 'pandas.core.frame.DataFrame'>\n",
      "RangeIndex: 11085 entries, 0 to 11084\n",
      "Data columns (total 3 columns):\n",
      " #   Column      Non-Null Count  Dtype \n",
      "---  ------      --------------  ----- \n",
      " 0   Name        11085 non-null  object\n",
      " 1   NOC         11085 non-null  object\n",
      " 2   Discipline  11085 non-null  object\n",
      "dtypes: object(3)\n",
      "memory usage: 259.9+ KB\n"
     ]
    }
   ],
   "source": [
    "print(athelete_df.head())\n",
    "athelete_df.info()"
   ]
  },
  {
   "cell_type": "code",
   "execution_count": 19,
   "id": "9b81fdfe",
   "metadata": {},
   "outputs": [
    {
     "name": "stdout",
     "output_type": "stream",
     "text": [
      "              Name            NOC  Discipline Event\n",
      "0  ABDELMAGID Wael          Egypt    Football   NaN\n",
      "1        ABE Junya          Japan  Volleyball   NaN\n",
      "2    ABE Katsuhiko          Japan  Basketball   NaN\n",
      "3     ADAMA Cherif  Côte d'Ivoire    Football   NaN\n",
      "4       AGEBA Yuya          Japan  Volleyball   NaN\n",
      "<class 'pandas.core.frame.DataFrame'>\n",
      "RangeIndex: 394 entries, 0 to 393\n",
      "Data columns (total 4 columns):\n",
      " #   Column      Non-Null Count  Dtype \n",
      "---  ------      --------------  ----- \n",
      " 0   Name        394 non-null    object\n",
      " 1   NOC         394 non-null    object\n",
      " 2   Discipline  394 non-null    object\n",
      " 3   Event       249 non-null    object\n",
      "dtypes: object(4)\n",
      "memory usage: 12.4+ KB\n"
     ]
    }
   ],
   "source": [
    "print(coaches_df.head())\n",
    "coaches_df.info()"
   ]
  },
  {
   "cell_type": "code",
   "execution_count": 21,
   "id": "f90951f0",
   "metadata": {},
   "outputs": [
    {
     "name": "stdout",
     "output_type": "stream",
     "text": [
      "            Discipline  Female  Male  Total\n",
      "0       3x3 Basketball      32    32     64\n",
      "1              Archery      64    64    128\n",
      "2  Artistic Gymnastics      98    98    196\n",
      "3    Artistic Swimming     105     0    105\n",
      "4            Athletics     969  1072   2041\n",
      "<class 'pandas.core.frame.DataFrame'>\n",
      "RangeIndex: 46 entries, 0 to 45\n",
      "Data columns (total 4 columns):\n",
      " #   Column      Non-Null Count  Dtype \n",
      "---  ------      --------------  ----- \n",
      " 0   Discipline  46 non-null     object\n",
      " 1   Female      46 non-null     int64 \n",
      " 2   Male        46 non-null     int64 \n",
      " 3   Total       46 non-null     int64 \n",
      "dtypes: int64(3), object(1)\n",
      "memory usage: 1.6+ KB\n"
     ]
    }
   ],
   "source": [
    "print(entries_gender_df.head())\n",
    "entries_gender_df.info()"
   ]
  },
  {
   "cell_type": "code",
   "execution_count": 23,
   "id": "b42b8574",
   "metadata": {},
   "outputs": [
    {
     "name": "stdout",
     "output_type": "stream",
     "text": [
      "   Rank                    Team/NOC  Gold  Silver  Bronze  Total  \\\n",
      "0     1    United States of America    39      41      33    113   \n",
      "1     2  People's Republic of China    38      32      18     88   \n",
      "2     3                       Japan    27      14      17     58   \n",
      "3     4               Great Britain    22      21      22     65   \n",
      "4     5                         ROC    20      28      23     71   \n",
      "\n",
      "   Rank by Total  \n",
      "0              1  \n",
      "1              2  \n",
      "2              5  \n",
      "3              4  \n",
      "4              3  \n",
      "<class 'pandas.core.frame.DataFrame'>\n",
      "RangeIndex: 93 entries, 0 to 92\n",
      "Data columns (total 7 columns):\n",
      " #   Column         Non-Null Count  Dtype \n",
      "---  ------         --------------  ----- \n",
      " 0   Rank           93 non-null     int64 \n",
      " 1   Team/NOC       93 non-null     object\n",
      " 2   Gold           93 non-null     int64 \n",
      " 3   Silver         93 non-null     int64 \n",
      " 4   Bronze         93 non-null     int64 \n",
      " 5   Total          93 non-null     int64 \n",
      " 6   Rank by Total  93 non-null     int64 \n",
      "dtypes: int64(6), object(1)\n",
      "memory usage: 5.2+ KB\n"
     ]
    }
   ],
   "source": [
    "print(medals_df.head())\n",
    "medals_df.info()"
   ]
  },
  {
   "cell_type": "code",
   "execution_count": 24,
   "id": "5bbe30af",
   "metadata": {},
   "outputs": [
    {
     "name": "stdout",
     "output_type": "stream",
     "text": [
      "      Name      Discipline                         NOC  Event\n",
      "0  Belgium  3x3 Basketball                     Belgium    Men\n",
      "1    China  3x3 Basketball  People's Republic of China    Men\n",
      "2    China  3x3 Basketball  People's Republic of China  Women\n",
      "3   France  3x3 Basketball                      France  Women\n",
      "4    Italy  3x3 Basketball                       Italy  Women\n",
      "<class 'pandas.core.frame.DataFrame'>\n",
      "RangeIndex: 743 entries, 0 to 742\n",
      "Data columns (total 4 columns):\n",
      " #   Column      Non-Null Count  Dtype \n",
      "---  ------      --------------  ----- \n",
      " 0   Name        743 non-null    object\n",
      " 1   Discipline  743 non-null    object\n",
      " 2   NOC         743 non-null    object\n",
      " 3   Event       743 non-null    object\n",
      "dtypes: object(4)\n",
      "memory usage: 23.3+ KB\n"
     ]
    }
   ],
   "source": [
    "print(teams_df.head())\n",
    "teams_df.info()"
   ]
  },
  {
   "cell_type": "code",
   "execution_count": 27,
   "id": "aa3bd2cb",
   "metadata": {},
   "outputs": [
    {
     "data": {
      "text/html": [
       "<div>\n",
       "<style scoped>\n",
       "    .dataframe tbody tr th:only-of-type {\n",
       "        vertical-align: middle;\n",
       "    }\n",
       "\n",
       "    .dataframe tbody tr th {\n",
       "        vertical-align: top;\n",
       "    }\n",
       "\n",
       "    .dataframe thead th {\n",
       "        text-align: right;\n",
       "    }\n",
       "</style>\n",
       "<table border=\"1\" class=\"dataframe\">\n",
       "  <thead>\n",
       "    <tr style=\"text-align: right;\">\n",
       "      <th></th>\n",
       "      <th>Team/NOC</th>\n",
       "      <th>Gold</th>\n",
       "      <th>Silver</th>\n",
       "      <th>Bronze</th>\n",
       "      <th>Total</th>\n",
       "    </tr>\n",
       "  </thead>\n",
       "  <tbody>\n",
       "    <tr>\n",
       "      <th>0</th>\n",
       "      <td>United States of America</td>\n",
       "      <td>39</td>\n",
       "      <td>41</td>\n",
       "      <td>33</td>\n",
       "      <td>113</td>\n",
       "    </tr>\n",
       "    <tr>\n",
       "      <th>1</th>\n",
       "      <td>People's Republic of China</td>\n",
       "      <td>38</td>\n",
       "      <td>32</td>\n",
       "      <td>18</td>\n",
       "      <td>88</td>\n",
       "    </tr>\n",
       "    <tr>\n",
       "      <th>4</th>\n",
       "      <td>ROC</td>\n",
       "      <td>20</td>\n",
       "      <td>28</td>\n",
       "      <td>23</td>\n",
       "      <td>71</td>\n",
       "    </tr>\n",
       "    <tr>\n",
       "      <th>3</th>\n",
       "      <td>Great Britain</td>\n",
       "      <td>22</td>\n",
       "      <td>21</td>\n",
       "      <td>22</td>\n",
       "      <td>65</td>\n",
       "    </tr>\n",
       "    <tr>\n",
       "      <th>2</th>\n",
       "      <td>Japan</td>\n",
       "      <td>27</td>\n",
       "      <td>14</td>\n",
       "      <td>17</td>\n",
       "      <td>58</td>\n",
       "    </tr>\n",
       "    <tr>\n",
       "      <th>5</th>\n",
       "      <td>Australia</td>\n",
       "      <td>17</td>\n",
       "      <td>7</td>\n",
       "      <td>22</td>\n",
       "      <td>46</td>\n",
       "    </tr>\n",
       "    <tr>\n",
       "      <th>9</th>\n",
       "      <td>Italy</td>\n",
       "      <td>10</td>\n",
       "      <td>10</td>\n",
       "      <td>20</td>\n",
       "      <td>40</td>\n",
       "    </tr>\n",
       "    <tr>\n",
       "      <th>8</th>\n",
       "      <td>Germany</td>\n",
       "      <td>10</td>\n",
       "      <td>11</td>\n",
       "      <td>16</td>\n",
       "      <td>37</td>\n",
       "    </tr>\n",
       "    <tr>\n",
       "      <th>6</th>\n",
       "      <td>Netherlands</td>\n",
       "      <td>10</td>\n",
       "      <td>12</td>\n",
       "      <td>14</td>\n",
       "      <td>36</td>\n",
       "    </tr>\n",
       "    <tr>\n",
       "      <th>7</th>\n",
       "      <td>France</td>\n",
       "      <td>10</td>\n",
       "      <td>12</td>\n",
       "      <td>11</td>\n",
       "      <td>33</td>\n",
       "    </tr>\n",
       "  </tbody>\n",
       "</table>\n",
       "</div>"
      ],
      "text/plain": [
       "                     Team/NOC  Gold  Silver  Bronze  Total\n",
       "0    United States of America    39      41      33    113\n",
       "1  People's Republic of China    38      32      18     88\n",
       "4                         ROC    20      28      23     71\n",
       "3               Great Britain    22      21      22     65\n",
       "2                       Japan    27      14      17     58\n",
       "5                   Australia    17       7      22     46\n",
       "9                       Italy    10      10      20     40\n",
       "8                     Germany    10      11      16     37\n",
       "6                 Netherlands    10      12      14     36\n",
       "7                      France    10      12      11     33"
      ]
     },
     "execution_count": 27,
     "metadata": {},
     "output_type": "execute_result"
    }
   ],
   "source": [
    "# country with most of the medals\n",
    "top_medals = medals_df.sort_values(\"Total\", ascending=False).head(10)\n",
    "top_medals[[\"Team/NOC\", \"Gold\", \"Silver\", \"Bronze\", \"Total\"]]"
   ]
  },
  {
   "cell_type": "code",
   "execution_count": 30,
   "id": "e78fa02f",
   "metadata": {},
   "outputs": [
    {
     "name": "stdout",
     "output_type": "stream",
     "text": [
      "       Team/NOC  Gold  Total  Gold_Ratio\n",
      "64  Puerto Rico     1      1    1.000000\n",
      "62      Bermuda     1      1    1.000000\n",
      "63      Morocco     1      1    1.000000\n",
      "42       Kosovo     2      2    1.000000\n",
      "41      Bahamas     2      2    1.000000\n",
      "40        Qatar     2      3    0.666667\n",
      "37      Ecuador     2      3    0.666667\n",
      "30     Slovenia     3      5    0.600000\n",
      "31   Uzbekistan     3      5    0.600000\n",
      "57      Tunisia     1      2    0.500000\n"
     ]
    }
   ],
   "source": [
    "# Which countries had the highest proportion of Gold medals (Gold dominance)?\n",
    "medals_df[\"Gold_Ratio\"] = medals_df[\"Gold\"] / medals_df[\"Total\"]\n",
    "gold_dominance = medals_df.sort_values(\"Gold_Ratio\", ascending=False).head(10)\n",
    "print(gold_dominance[[\"Team/NOC\", \"Gold\", \"Total\", \"Gold_Ratio\"]])"
   ]
  },
  {
   "cell_type": "code",
   "execution_count": 32,
   "id": "63504cac",
   "metadata": {},
   "outputs": [
    {
     "data": {
      "text/plain": [
       "Female    5432\n",
       "Male      5884\n",
       "dtype: int64"
      ]
     },
     "execution_count": 32,
     "metadata": {},
     "output_type": "execute_result"
    }
   ],
   "source": [
    "# Gender participation comparison: male vs. female across all sports\n",
    "gender_summary = entries_gender_df[[\"Female\", \"Male\"]].sum()\n",
    "gender_summary"
   ]
  },
  {
   "cell_type": "code",
   "execution_count": 35,
   "id": "53f70e29",
   "metadata": {},
   "outputs": [
    {
     "name": "stdout",
     "output_type": "stream",
     "text": [
      "   Discipline  Female  Male  Total\n",
      "4   Athletics     969  1072   2041\n",
      "36   Swimming     361   418    779\n",
      "20   Football     264   344    608\n",
      "29     Rowing     257   265    522\n",
      "23     Hockey     192   192    384\n",
      "   Discipline  Female  Male  Total\n",
      "4   Athletics     969  1072   2041\n",
      "36   Swimming     361   418    779\n",
      "20   Football     264   344    608\n",
      "29     Rowing     257   265    522\n",
      "24       Judo     192   201    393\n"
     ]
    }
   ],
   "source": [
    "female_dominated = entries_gender_df.sort_values(\"Female\", ascending=False).head(5)\n",
    "male_dominated = entries_gender_df.sort_values(\"Male\", ascending=False).head(5)\n",
    "print(female_dominated)\n",
    "print(male_dominated)"
   ]
  },
  {
   "cell_type": "code",
   "execution_count": 37,
   "id": "06e87b50",
   "metadata": {},
   "outputs": [
    {
     "data": {
      "text/plain": [
       "NOC\n",
       "Japan                         46\n",
       "United States of America      44\n",
       "Australia                     41\n",
       "People's Republic of China    41\n",
       "France                        41\n",
       "Canada                        40\n",
       "Italy                         39\n",
       "ROC                           39\n",
       "Germany                       37\n",
       "Spain                         36\n",
       "Name: Discipline, dtype: int64"
      ]
     },
     "execution_count": 37,
     "metadata": {},
     "output_type": "execute_result"
    }
   ],
   "source": [
    "team_disciplines = athelete_df.groupby(\"NOC\")[\"Discipline\"].nunique().sort_values(ascending=False).head(10)\n",
    "team_disciplines\n"
   ]
  },
  {
   "cell_type": "code",
   "execution_count": 39,
   "id": "e09964a8",
   "metadata": {},
   "outputs": [
    {
     "name": "stdout",
     "output_type": "stream",
     "text": [
      "    Rank                    Team/NOC  Gold  Silver  Bronze  Total  \\\n",
      "72    72                  San Marino     0       1       2      3   \n",
      "62    63                     Bermuda     1       0       0      1   \n",
      "68    69                     Armenia     0       2       2      4   \n",
      "32    33                     Georgia     2       5       1      8   \n",
      "4      5                         ROC    20      28      23     71   \n",
      "49    50                 Philippines     1       2       1      4   \n",
      "1      2  People's Republic of China    38      32      18     88   \n",
      "13    14                        Cuba     7       3       5     15   \n",
      "40    41                       Qatar     2       0       1      3   \n",
      "42    42                      Kosovo     2       0       0      2   \n",
      "\n",
      "    Rank by Total  Gold_Ratio                         NOC  Athlete_Count  \\\n",
      "72             60    0.000000                  San Marino              4   \n",
      "62             77    1.000000                     Bermuda              2   \n",
      "68             47    0.000000                     Armenia             16   \n",
      "32             29    0.250000                     Georgia             35   \n",
      "4               3    0.281690                         ROC            318   \n",
      "49             47    0.250000                 Philippines             18   \n",
      "1               2    0.431818  People's Republic of China            401   \n",
      "13             18    0.466667                        Cuba             69   \n",
      "40             60    0.666667                       Qatar             14   \n",
      "42             66    1.000000                      Kosovo             10   \n",
      "\n",
      "    Medals_per_Athlete  \n",
      "72            0.750000  \n",
      "62            0.500000  \n",
      "68            0.250000  \n",
      "32            0.228571  \n",
      "4             0.223270  \n",
      "49            0.222222  \n",
      "1             0.219451  \n",
      "13            0.217391  \n",
      "40            0.214286  \n",
      "42            0.200000  \n"
     ]
    }
   ],
   "source": [
    "athletes_per_country = athelete_df.groupby(\"NOC\")[\"Name\"].count().reset_index()\n",
    "athletes_per_country.rename(columns={\"Name\": \"Athlete_Count\"}, inplace=True)\n",
    "\n",
    "merged = pd.merge(medals_df, athletes_per_country, left_on=\"Team/NOC\", right_on=\"NOC\")\n",
    "merged[\"Medals_per_Athlete\"] = merged[\"Total\"] / merged[\"Athlete_Count\"]\n",
    "print(merged.sort_values(\"Medals_per_Athlete\", ascending=False).head(10))\n"
   ]
  },
  {
   "cell_type": "code",
   "execution_count": 41,
   "id": "75c89dde",
   "metadata": {},
   "outputs": [
    {
     "data": {
      "text/plain": [
       "Discipline\n",
       "Swimming               113\n",
       "Athletics               79\n",
       "Cycling Track           64\n",
       "Archery                 53\n",
       "Fencing                 52\n",
       "Table Tennis            48\n",
       "Beach Volleyball        48\n",
       "Artistic Swimming       32\n",
       "Football                28\n",
       "Artistic Gymnastics     24\n",
       "Name: NOC, dtype: int64"
      ]
     },
     "execution_count": 41,
     "metadata": {},
     "output_type": "execute_result"
    }
   ],
   "source": [
    "medals_by_sport = teams_df.groupby(\"Discipline\")[\"NOC\"].count().sort_values(ascending=False).head(10)\n",
    "medals_by_sport"
   ]
  },
  {
   "cell_type": "code",
   "execution_count": 42,
   "id": "c553264b",
   "metadata": {},
   "outputs": [
    {
     "data": {
      "text/plain": [
       "NOC\n",
       "Japan                         9\n",
       "Canada                        8\n",
       "Australia                     7\n",
       "People's Republic of China    7\n",
       "Argentina                     7\n",
       "United States of America      7\n",
       "Republic of Korea             6\n",
       "France                        6\n",
       "Spain                         6\n",
       "Italy                         5\n",
       "Name: Discipline, dtype: int64"
      ]
     },
     "execution_count": 42,
     "metadata": {},
     "output_type": "execute_result"
    }
   ],
   "source": [
    "coach_discipline_count = coaches_df.groupby(\"NOC\")[\"Discipline\"].nunique().sort_values(ascending=False).head(10)\n",
    "coach_discipline_count"
   ]
  },
  {
   "cell_type": "code",
   "execution_count": 47,
   "id": "48fa89b9",
   "metadata": {},
   "outputs": [
    {
     "name": "stdout",
     "output_type": "stream",
     "text": [
      "                           NOC  Gold  Silver  Bronze  Total  Athlete_Count  \\\n",
      "72                  San Marino     0       1       2      3              4   \n",
      "62                     Bermuda     1       0       0      1              2   \n",
      "68                     Armenia     0       2       2      4             16   \n",
      "32                     Georgia     2       5       1      8             35   \n",
      "4                          ROC    20      28      23     71            318   \n",
      "49                 Philippines     1       2       1      4             18   \n",
      "1   People's Republic of China    38      32      18     88            401   \n",
      "13                        Cuba     7       3       5     15             69   \n",
      "40                       Qatar     2       0       1      3             14   \n",
      "42                      Kosovo     2       0       0      2             10   \n",
      "\n",
      "    Medals_per_Athlete  \n",
      "72            0.750000  \n",
      "62            0.500000  \n",
      "68            0.250000  \n",
      "32            0.228571  \n",
      "4             0.223270  \n",
      "49            0.222222  \n",
      "1             0.219451  \n",
      "13            0.217391  \n",
      "40            0.214286  \n",
      "42            0.200000  \n"
     ]
    }
   ],
   "source": [
    "# Step 1: Count athletes per NOC\n",
    "athletes_per_country = athelete_df.groupby(\"NOC\")[\"Name\"].count().reset_index()\n",
    "athletes_per_country.rename(columns={\"Name\": \"Athlete_Count\"}, inplace=True)\n",
    "\n",
    "# Step 2: Standardize column names for merging\n",
    "medals_df = medals_df.rename(columns={\"Team/NOC\": \"NOC\"})\n",
    "\n",
    "# Step 3: Merge\n",
    "merged = pd.merge(medals_df, athletes_per_country, on=\"NOC\", how=\"inner\")\n",
    "\n",
    "# Step 4: Compute efficiency\n",
    "merged[\"Medals_per_Athlete\"] = merged[\"Total\"] / merged[\"Athlete_Count\"]\n",
    "\n",
    "# Step 5: Sort\n",
    "efficiency = merged.sort_values(\"Medals_per_Athlete\", ascending=False).head(10)\n",
    "print(efficiency[[\"NOC\", \"Gold\", \"Silver\", \"Bronze\", \"Total\", \"Athlete_Count\", \"Medals_per_Athlete\"]])\n"
   ]
  },
  {
   "cell_type": "code",
   "execution_count": 48,
   "id": "8209bbf4",
   "metadata": {},
   "outputs": [
    {
     "data": {
      "image/png": "[encoded data removed]",
      "text/plain": [
       "<Figure size 1200x600 with 1 Axes>"
      ]
     },
     "metadata": {},
     "output_type": "display_data"
    }
   ],
   "source": [
    "import matplotlib.pyplot as plt\n",
    "import numpy as np\n",
    "\n",
    "# Pick top 10 disciplines by total participation\n",
    "top_disciplines = entries_gender_df.sort_values(\"Total\", ascending=False).head(10)\n",
    "\n",
    "x = np.arange(len(top_disciplines[\"Discipline\"]))  # positions\n",
    "width = 0.35  # bar width\n",
    "\n",
    "plt.figure(figsize=(12,6))\n",
    "plt.bar(x - width/2, top_disciplines[\"Female\"], width, label=\"Female\", color=\"pink\")\n",
    "plt.bar(x + width/2, top_disciplines[\"Male\"], width, label=\"Male\", color=\"lightblue\")\n",
    "\n",
    "plt.xticks(x, top_disciplines[\"Discipline\"].tolist(), rotation=45, ha=\"right\")\n",
    "plt.ylabel(\"Number of Athletes\")\n",
    "plt.title(\"Top 10 Disciplines by Gender Participation\")\n",
    "plt.legend()\n",
    "plt.tight_layout()\n",
    "plt.show()\n"
   ]
  },
  {
   "cell_type": "code",
   "execution_count": 49,
   "id": "630d3084",
   "metadata": {},
   "outputs": [
    {
     "data": {
      "image/png": "[encoded data removed]",
      "text/plain": [
       "<Figure size 600x600 with 1 Axes>"
      ]
     },
     "metadata": {},
     "output_type": "display_data"
    }
   ],
   "source": [
    "# Sum across all disciplines\n",
    "total_female = entries_gender_df[\"Female\"].sum()\n",
    "total_male = entries_gender_df[\"Male\"].sum()\n",
    "\n",
    "plt.figure(figsize=(6,6))\n",
    "plt.pie([total_female, total_male], \n",
    "        labels=[\"Female\", \"Male\"], \n",
    "        autopct=\"%1.1f%%\", \n",
    "        colors=[\"pink\", \"lightblue\"],\n",
    "        startangle=90)\n",
    "\n",
    "plt.title(\"Overall Gender Participation in Tokyo Olympics\")\n",
    "plt.show()\n"
   ]
  },
  {
   "cell_type": "code",
   "execution_count": null,
   "id": "f7328424",
   "metadata": {},
   "outputs": [],
   "source": []
  }
 ],
 "metadata": {
  "kernelspec": {
   "display_name": "Python 3",
   "language": "python",
   "name": "python3"
  },
  "language_info": {
   "codemirror_mode": {
    "name": "ipython",
    "version": 3
   },
   "file_extension": ".py",
   "mimetype": "text/x-python",
   "name": "python",
   "nbconvert_exporter": "python",
   "pygments_lexer": "ipython3",
   "version": "3.11.0"
  }
 },
 "nbformat": 4,
 "nbformat_minor": 5
}
